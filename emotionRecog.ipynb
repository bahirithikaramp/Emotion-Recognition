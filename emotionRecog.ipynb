{
 "cells": [
  {
   "cell_type": "code",
   "execution_count": 1,
   "metadata": {},
   "outputs": [
    {
     "name": "stdout",
     "output_type": "stream",
     "text": [
      "Requirement already satisfied: opencv-python in /Users/bahirithikarampudi/work/lib/python3.7/site-packages (4.4.0.42)\n",
      "Requirement already satisfied: numpy>=1.14.5 in /Users/bahirithikarampudi/work/lib/python3.7/site-packages (from opencv-python) (1.19.1)\n",
      "\u001b[33mYou are using pip version 19.0.3, however version 20.3b1 is available.\n",
      "You should consider upgrading via the 'pip install --upgrade pip' command.\u001b[0m\n",
      "Note: you may need to restart the kernel to use updated packages.\n"
     ]
    }
   ],
   "source": [
    "pip install opencv-python"
   ]
  },
  {
   "cell_type": "code",
   "execution_count": 2,
   "metadata": {},
   "outputs": [
    {
     "name": "stdout",
     "output_type": "stream",
     "text": [
      "Requirement already satisfied: deepface in /Users/bahirithikarampudi/work/lib/python3.7/site-packages (0.0.40)\n",
      "Requirement already satisfied: tensorflow>=1.9.0 in /Users/bahirithikarampudi/work/lib/python3.7/site-packages (from deepface) (2.3.1)\n",
      "Requirement already satisfied: opencv-python>=3.4.4 in /Users/bahirithikarampudi/work/lib/python3.7/site-packages (from deepface) (4.4.0.42)\n",
      "Requirement already satisfied: mtcnn>=0.1.0 in /Users/bahirithikarampudi/work/lib/python3.7/site-packages (from deepface) (0.1.0)\n",
      "Requirement already satisfied: gdown>=3.10.1 in /Users/bahirithikarampudi/work/lib/python3.7/site-packages (from deepface) (3.12.2)\n",
      "Requirement already satisfied: numpy>=1.14.0 in /Users/bahirithikarampudi/work/lib/python3.7/site-packages (from deepface) (1.19.1)\n",
      "Requirement already satisfied: Flask>=1.1.2 in /Users/bahirithikarampudi/work/lib/python3.7/site-packages (from deepface) (1.1.2)\n",
      "Requirement already satisfied: tqdm>=4.30.0 in /Users/bahirithikarampudi/work/lib/python3.7/site-packages (from deepface) (4.51.0)\n",
      "Requirement already satisfied: Pillow>=5.2.0 in /Users/bahirithikarampudi/work/lib/python3.7/site-packages (from deepface) (7.2.0)\n",
      "Requirement already satisfied: pandas>=0.23.4 in /Users/bahirithikarampudi/work/lib/python3.7/site-packages (from deepface) (1.1.3)\n",
      "Requirement already satisfied: keras>=2.2.0 in /Users/bahirithikarampudi/work/lib/python3.7/site-packages (from deepface) (2.4.3)\n",
      "Requirement already satisfied: protobuf>=3.9.2 in /Users/bahirithikarampudi/work/lib/python3.7/site-packages (from tensorflow>=1.9.0->deepface) (3.13.0)\n",
      "Requirement already satisfied: wheel>=0.26 in /Users/bahirithikarampudi/work/lib/python3.7/site-packages (from tensorflow>=1.9.0->deepface) (0.35.1)\n",
      "Requirement already satisfied: grpcio>=1.8.6 in /Users/bahirithikarampudi/work/lib/python3.7/site-packages (from tensorflow>=1.9.0->deepface) (1.33.2)\n",
      "Collecting h5py<2.11.0,>=2.10.0 (from tensorflow>=1.9.0->deepface)\n",
      "\u001b[?25l  Downloading https://files.pythonhosted.org/packages/1a/8b/4d01ae9a9d50a0bcc7b0b9aae41785d8d9de6fa9bba04dc20b1582181d2d/h5py-2.10.0-cp37-cp37m-macosx_10_6_intel.whl (3.0MB)\n",
      "\u001b[K    100% |████████████████████████████████| 3.0MB 1.8MB/s ta 0:00:01\n",
      "\u001b[?25hRequirement already satisfied: absl-py>=0.7.0 in /Users/bahirithikarampudi/work/lib/python3.7/site-packages (from tensorflow>=1.9.0->deepface) (0.11.0)\n",
      "Requirement already satisfied: termcolor>=1.1.0 in /Users/bahirithikarampudi/work/lib/python3.7/site-packages (from tensorflow>=1.9.0->deepface) (1.1.0)\n",
      "Requirement already satisfied: tensorboard<3,>=2.3.0 in /Users/bahirithikarampudi/work/lib/python3.7/site-packages (from tensorflow>=1.9.0->deepface) (2.3.0)\n",
      "Requirement already satisfied: astunparse==1.6.3 in /Users/bahirithikarampudi/work/lib/python3.7/site-packages (from tensorflow>=1.9.0->deepface) (1.6.3)\n",
      "Requirement already satisfied: opt-einsum>=2.3.2 in /Users/bahirithikarampudi/work/lib/python3.7/site-packages (from tensorflow>=1.9.0->deepface) (3.3.0)\n",
      "Requirement already satisfied: six>=1.12.0 in /Users/bahirithikarampudi/work/lib/python3.7/site-packages (from tensorflow>=1.9.0->deepface) (1.15.0)\n",
      "Requirement already satisfied: tensorflow-estimator<2.4.0,>=2.3.0 in /Users/bahirithikarampudi/work/lib/python3.7/site-packages (from tensorflow>=1.9.0->deepface) (2.3.0)\n",
      "Requirement already satisfied: wrapt>=1.11.1 in /Users/bahirithikarampudi/work/lib/python3.7/site-packages (from tensorflow>=1.9.0->deepface) (1.12.1)\n",
      "Requirement already satisfied: keras-preprocessing<1.2,>=1.1.1 in /Users/bahirithikarampudi/work/lib/python3.7/site-packages (from tensorflow>=1.9.0->deepface) (1.1.2)\n",
      "Requirement already satisfied: google-pasta>=0.1.8 in /Users/bahirithikarampudi/work/lib/python3.7/site-packages (from tensorflow>=1.9.0->deepface) (0.2.0)\n",
      "Requirement already satisfied: gast==0.3.3 in /Users/bahirithikarampudi/work/lib/python3.7/site-packages (from tensorflow>=1.9.0->deepface) (0.3.3)\n",
      "Requirement already satisfied: filelock in /Users/bahirithikarampudi/work/lib/python3.7/site-packages (from gdown>=3.10.1->deepface) (3.0.12)\n",
      "Requirement already satisfied: requests[socks] in /Users/bahirithikarampudi/work/lib/python3.7/site-packages (from gdown>=3.10.1->deepface) (2.24.0)\n",
      "Requirement already satisfied: click>=5.1 in /Users/bahirithikarampudi/work/lib/python3.7/site-packages (from Flask>=1.1.2->deepface) (7.1.2)\n",
      "Requirement already satisfied: Werkzeug>=0.15 in /Users/bahirithikarampudi/work/lib/python3.7/site-packages (from Flask>=1.1.2->deepface) (1.0.1)\n",
      "Requirement already satisfied: Jinja2>=2.10.1 in /Users/bahirithikarampudi/work/lib/python3.7/site-packages (from Flask>=1.1.2->deepface) (2.11.2)\n",
      "Requirement already satisfied: itsdangerous>=0.24 in /Users/bahirithikarampudi/work/lib/python3.7/site-packages (from Flask>=1.1.2->deepface) (1.1.0)\n",
      "Requirement already satisfied: python-dateutil>=2.7.3 in /Users/bahirithikarampudi/work/lib/python3.7/site-packages (from pandas>=0.23.4->deepface) (2.8.1)\n",
      "Requirement already satisfied: pytz>=2017.2 in /Users/bahirithikarampudi/work/lib/python3.7/site-packages (from pandas>=0.23.4->deepface) (2020.1)\n",
      "Requirement already satisfied: pyyaml in /Users/bahirithikarampudi/work/lib/python3.7/site-packages (from keras>=2.2.0->deepface) (5.3.1)\n",
      "Requirement already satisfied: scipy>=0.14 in /Users/bahirithikarampudi/work/lib/python3.7/site-packages (from keras>=2.2.0->deepface) (1.5.4)\n",
      "Requirement already satisfied: setuptools in /Users/bahirithikarampudi/work/lib/python3.7/site-packages (from protobuf>=3.9.2->tensorflow>=1.9.0->deepface) (40.8.0)\n",
      "Requirement already satisfied: markdown>=2.6.8 in /Users/bahirithikarampudi/work/lib/python3.7/site-packages (from tensorboard<3,>=2.3.0->tensorflow>=1.9.0->deepface) (3.3.3)\n",
      "Requirement already satisfied: google-auth-oauthlib<0.5,>=0.4.1 in /Users/bahirithikarampudi/work/lib/python3.7/site-packages (from tensorboard<3,>=2.3.0->tensorflow>=1.9.0->deepface) (0.4.2)\n",
      "Requirement already satisfied: tensorboard-plugin-wit>=1.6.0 in /Users/bahirithikarampudi/work/lib/python3.7/site-packages (from tensorboard<3,>=2.3.0->tensorflow>=1.9.0->deepface) (1.7.0)\n",
      "Requirement already satisfied: google-auth<2,>=1.6.3 in /Users/bahirithikarampudi/work/lib/python3.7/site-packages (from tensorboard<3,>=2.3.0->tensorflow>=1.9.0->deepface) (1.23.0)\n",
      "Requirement already satisfied: chardet<4,>=3.0.2 in /Users/bahirithikarampudi/work/lib/python3.7/site-packages (from requests[socks]->gdown>=3.10.1->deepface) (3.0.4)\n",
      "Requirement already satisfied: urllib3!=1.25.0,!=1.25.1,<1.26,>=1.21.1 in /Users/bahirithikarampudi/work/lib/python3.7/site-packages (from requests[socks]->gdown>=3.10.1->deepface) (1.25.11)\n",
      "Requirement already satisfied: certifi>=2017.4.17 in /Users/bahirithikarampudi/work/lib/python3.7/site-packages (from requests[socks]->gdown>=3.10.1->deepface) (2020.6.20)\n",
      "Requirement already satisfied: idna<3,>=2.5 in /Users/bahirithikarampudi/work/lib/python3.7/site-packages (from requests[socks]->gdown>=3.10.1->deepface) (2.10)\n",
      "Requirement already satisfied: PySocks!=1.5.7,>=1.5.6; extra == \"socks\" in /Users/bahirithikarampudi/work/lib/python3.7/site-packages (from requests[socks]->gdown>=3.10.1->deepface) (1.7.1)\n",
      "Requirement already satisfied: MarkupSafe>=0.23 in /Users/bahirithikarampudi/work/lib/python3.7/site-packages (from Jinja2>=2.10.1->Flask>=1.1.2->deepface) (1.1.1)\n",
      "Requirement already satisfied: importlib-metadata; python_version < \"3.8\" in /Users/bahirithikarampudi/work/lib/python3.7/site-packages (from markdown>=2.6.8->tensorboard<3,>=2.3.0->tensorflow>=1.9.0->deepface) (2.0.0)\n",
      "Requirement already satisfied: requests-oauthlib>=0.7.0 in /Users/bahirithikarampudi/work/lib/python3.7/site-packages (from google-auth-oauthlib<0.5,>=0.4.1->tensorboard<3,>=2.3.0->tensorflow>=1.9.0->deepface) (1.3.0)\n",
      "Requirement already satisfied: pyasn1-modules>=0.2.1 in /Users/bahirithikarampudi/work/lib/python3.7/site-packages (from google-auth<2,>=1.6.3->tensorboard<3,>=2.3.0->tensorflow>=1.9.0->deepface) (0.2.8)\n",
      "Requirement already satisfied: rsa<5,>=3.1.4; python_version >= \"3.5\" in /Users/bahirithikarampudi/work/lib/python3.7/site-packages (from google-auth<2,>=1.6.3->tensorboard<3,>=2.3.0->tensorflow>=1.9.0->deepface) (4.6)\n",
      "Requirement already satisfied: cachetools<5.0,>=2.0.0 in /Users/bahirithikarampudi/work/lib/python3.7/site-packages (from google-auth<2,>=1.6.3->tensorboard<3,>=2.3.0->tensorflow>=1.9.0->deepface) (4.1.1)\n",
      "Requirement already satisfied: zipp>=0.5 in /Users/bahirithikarampudi/work/lib/python3.7/site-packages (from importlib-metadata; python_version < \"3.8\"->markdown>=2.6.8->tensorboard<3,>=2.3.0->tensorflow>=1.9.0->deepface) (3.4.0)\n",
      "Requirement already satisfied: oauthlib>=3.0.0 in /Users/bahirithikarampudi/work/lib/python3.7/site-packages (from requests-oauthlib>=0.7.0->google-auth-oauthlib<0.5,>=0.4.1->tensorboard<3,>=2.3.0->tensorflow>=1.9.0->deepface) (3.1.0)\n",
      "Requirement already satisfied: pyasn1<0.5.0,>=0.4.6 in /Users/bahirithikarampudi/work/lib/python3.7/site-packages (from pyasn1-modules>=0.2.1->google-auth<2,>=1.6.3->tensorboard<3,>=2.3.0->tensorflow>=1.9.0->deepface) (0.4.8)\n",
      "\u001b[31mtensorflow 2.3.1 has requirement numpy<1.19.0,>=1.16.0, but you'll have numpy 1.19.1 which is incompatible.\u001b[0m\n",
      "Installing collected packages: h5py\n",
      "  Found existing installation: h5py 3.1.0\n",
      "    Uninstalling h5py-3.1.0:\n",
      "      Successfully uninstalled h5py-3.1.0\n",
      "Successfully installed h5py-2.10.0\n",
      "\u001b[33mYou are using pip version 19.0.3, however version 20.3b1 is available.\n",
      "You should consider upgrading via the 'pip install --upgrade pip' command.\u001b[0m\n",
      "Note: you may need to restart the kernel to use updated packages.\n"
     ]
    }
   ],
   "source": [
    "pip install deepface"
   ]
  },
  {
   "cell_type": "code",
   "execution_count": 3,
   "metadata": {},
   "outputs": [
    {
     "name": "stdout",
     "output_type": "stream",
     "text": [
      "Requirement already satisfied: matplotlib in /Users/bahirithikarampudi/work/lib/python3.7/site-packages (3.3.2)\n",
      "Requirement already satisfied: numpy>=1.15 in /Users/bahirithikarampudi/work/lib/python3.7/site-packages (from matplotlib) (1.19.1)\n",
      "Requirement already satisfied: kiwisolver>=1.0.1 in /Users/bahirithikarampudi/work/lib/python3.7/site-packages (from matplotlib) (1.2.0)\n",
      "Requirement already satisfied: pyparsing!=2.0.4,!=2.1.2,!=2.1.6,>=2.0.3 in /Users/bahirithikarampudi/work/lib/python3.7/site-packages (from matplotlib) (2.4.7)\n",
      "Requirement already satisfied: python-dateutil>=2.1 in /Users/bahirithikarampudi/work/lib/python3.7/site-packages (from matplotlib) (2.8.1)\n",
      "Requirement already satisfied: pillow>=6.2.0 in /Users/bahirithikarampudi/work/lib/python3.7/site-packages (from matplotlib) (7.2.0)\n",
      "Requirement already satisfied: certifi>=2020.06.20 in /Users/bahirithikarampudi/work/lib/python3.7/site-packages (from matplotlib) (2020.6.20)\n",
      "Requirement already satisfied: cycler>=0.10 in /Users/bahirithikarampudi/work/lib/python3.7/site-packages (from matplotlib) (0.10.0)\n",
      "Requirement already satisfied: six>=1.5 in /Users/bahirithikarampudi/work/lib/python3.7/site-packages (from python-dateutil>=2.1->matplotlib) (1.15.0)\n",
      "\u001b[33mYou are using pip version 19.0.3, however version 20.3b1 is available.\n",
      "You should consider upgrading via the 'pip install --upgrade pip' command.\u001b[0m\n",
      "Note: you may need to restart the kernel to use updated packages.\n"
     ]
    }
   ],
   "source": [
    "pip install matplotlib"
   ]
  },
  {
   "cell_type": "code",
   "execution_count": 1,
   "metadata": {},
   "outputs": [],
   "source": [
    "import cv2\n",
    "from deepface import DeepFace"
   ]
  },
  {
   "cell_type": "code",
   "execution_count": 5,
   "metadata": {},
   "outputs": [
    {
     "ename": "ValueError",
     "evalue": "Face could not be detected. Please confirm that the picture is a face photo or consider to set enforce_detection param to False.",
     "output_type": "error",
     "traceback": [
      "\u001b[0;31m---------------------------------------------------------------------------\u001b[0m",
      "\u001b[0;31mValueError\u001b[0m                                Traceback (most recent call last)",
      "\u001b[0;32m<ipython-input-5-50ffd0a9a712>\u001b[0m in \u001b[0;36m<module>\u001b[0;34m\u001b[0m\n\u001b[1;32m      7\u001b[0m   \u001b[0mframe\u001b[0m \u001b[0;34m=\u001b[0m \u001b[0mcv2\u001b[0m\u001b[0;34m.\u001b[0m\u001b[0mflip\u001b[0m\u001b[0;34m(\u001b[0m\u001b[0mframe\u001b[0m\u001b[0;34m,\u001b[0m \u001b[0;36m1\u001b[0m\u001b[0;34m)\u001b[0m\u001b[0;34m\u001b[0m\u001b[0;34m\u001b[0m\u001b[0m\n\u001b[1;32m      8\u001b[0m   \u001b[0;31m#frame = cv2.resize(frame,(1280,760))\u001b[0m\u001b[0;34m\u001b[0m\u001b[0;34m\u001b[0m\u001b[0;34m\u001b[0m\u001b[0m\n\u001b[0;32m----> 9\u001b[0;31m   \u001b[0mresult\u001b[0m \u001b[0;34m=\u001b[0m \u001b[0mDeepFace\u001b[0m\u001b[0;34m.\u001b[0m\u001b[0manalyze\u001b[0m\u001b[0;34m(\u001b[0m\u001b[0mframe\u001b[0m\u001b[0;34m,\u001b[0m \u001b[0mactions\u001b[0m \u001b[0;34m=\u001b[0m \u001b[0;34m[\u001b[0m\u001b[0;34m'emotion'\u001b[0m\u001b[0;34m]\u001b[0m\u001b[0;34m)\u001b[0m\u001b[0;34m\u001b[0m\u001b[0;34m\u001b[0m\u001b[0m\n\u001b[0m\u001b[1;32m     10\u001b[0m \u001b[0;34m\u001b[0m\u001b[0m\n\u001b[1;32m     11\u001b[0m   \u001b[0mgray\u001b[0m \u001b[0;34m=\u001b[0m \u001b[0mcv2\u001b[0m\u001b[0;34m.\u001b[0m\u001b[0mcvtColor\u001b[0m\u001b[0;34m(\u001b[0m\u001b[0mframe\u001b[0m\u001b[0;34m,\u001b[0m \u001b[0mcv2\u001b[0m\u001b[0;34m.\u001b[0m\u001b[0mCOLOR_BGR2GRAY\u001b[0m\u001b[0;34m)\u001b[0m\u001b[0;34m\u001b[0m\u001b[0;34m\u001b[0m\u001b[0m\n",
      "\u001b[0;32m~/work/lib/python3.7/site-packages/deepface/DeepFace.py\u001b[0m in \u001b[0;36manalyze\u001b[0;34m(img_path, actions, models, enforce_detection, detector_backend)\u001b[0m\n\u001b[1;32m    422\u001b[0m                         \u001b[0;32mif\u001b[0m \u001b[0maction\u001b[0m \u001b[0;34m==\u001b[0m \u001b[0;34m'emotion'\u001b[0m\u001b[0;34m:\u001b[0m\u001b[0;34m\u001b[0m\u001b[0;34m\u001b[0m\u001b[0m\n\u001b[1;32m    423\u001b[0m                                 \u001b[0memotion_labels\u001b[0m \u001b[0;34m=\u001b[0m \u001b[0;34m[\u001b[0m\u001b[0;34m'angry'\u001b[0m\u001b[0;34m,\u001b[0m \u001b[0;34m'disgust'\u001b[0m\u001b[0;34m,\u001b[0m \u001b[0;34m'fear'\u001b[0m\u001b[0;34m,\u001b[0m \u001b[0;34m'happy'\u001b[0m\u001b[0;34m,\u001b[0m \u001b[0;34m'sad'\u001b[0m\u001b[0;34m,\u001b[0m \u001b[0;34m'surprise'\u001b[0m\u001b[0;34m,\u001b[0m \u001b[0;34m'neutral'\u001b[0m\u001b[0;34m]\u001b[0m\u001b[0;34m\u001b[0m\u001b[0;34m\u001b[0m\u001b[0m\n\u001b[0;32m--> 424\u001b[0;31m                                 \u001b[0mimg\u001b[0m \u001b[0;34m=\u001b[0m \u001b[0mfunctions\u001b[0m\u001b[0;34m.\u001b[0m\u001b[0mpreprocess_face\u001b[0m\u001b[0;34m(\u001b[0m\u001b[0mimg\u001b[0m \u001b[0;34m=\u001b[0m \u001b[0mimg_path\u001b[0m\u001b[0;34m,\u001b[0m \u001b[0mtarget_size\u001b[0m \u001b[0;34m=\u001b[0m \u001b[0;34m(\u001b[0m\u001b[0;36m48\u001b[0m\u001b[0;34m,\u001b[0m \u001b[0;36m48\u001b[0m\u001b[0;34m)\u001b[0m\u001b[0;34m,\u001b[0m \u001b[0mgrayscale\u001b[0m \u001b[0;34m=\u001b[0m \u001b[0;32mTrue\u001b[0m\u001b[0;34m,\u001b[0m \u001b[0menforce_detection\u001b[0m \u001b[0;34m=\u001b[0m \u001b[0menforce_detection\u001b[0m\u001b[0;34m,\u001b[0m \u001b[0mdetector_backend\u001b[0m \u001b[0;34m=\u001b[0m \u001b[0mdetector_backend\u001b[0m\u001b[0;34m)\u001b[0m\u001b[0;34m\u001b[0m\u001b[0;34m\u001b[0m\u001b[0m\n\u001b[0m\u001b[1;32m    425\u001b[0m \u001b[0;34m\u001b[0m\u001b[0m\n\u001b[1;32m    426\u001b[0m                                 \u001b[0memotion_predictions\u001b[0m \u001b[0;34m=\u001b[0m \u001b[0memotion_model\u001b[0m\u001b[0;34m.\u001b[0m\u001b[0mpredict\u001b[0m\u001b[0;34m(\u001b[0m\u001b[0mimg\u001b[0m\u001b[0;34m)\u001b[0m\u001b[0;34m[\u001b[0m\u001b[0;36m0\u001b[0m\u001b[0;34m,\u001b[0m\u001b[0;34m:\u001b[0m\u001b[0;34m]\u001b[0m\u001b[0;34m\u001b[0m\u001b[0;34m\u001b[0m\u001b[0m\n",
      "\u001b[0;32m~/work/lib/python3.7/site-packages/deepface/commons/functions.py\u001b[0m in \u001b[0;36mpreprocess_face\u001b[0;34m(img, target_size, grayscale, enforce_detection, detector_backend)\u001b[0m\n\u001b[1;32m    453\u001b[0m         \u001b[0mbase_img\u001b[0m \u001b[0;34m=\u001b[0m \u001b[0mimg\u001b[0m\u001b[0;34m.\u001b[0m\u001b[0mcopy\u001b[0m\u001b[0;34m(\u001b[0m\u001b[0;34m)\u001b[0m\u001b[0;34m\u001b[0m\u001b[0;34m\u001b[0m\u001b[0m\n\u001b[1;32m    454\u001b[0m \u001b[0;34m\u001b[0m\u001b[0m\n\u001b[0;32m--> 455\u001b[0;31m         \u001b[0mimg\u001b[0m \u001b[0;34m=\u001b[0m \u001b[0mdetect_face\u001b[0m\u001b[0;34m(\u001b[0m\u001b[0mimg\u001b[0m \u001b[0;34m=\u001b[0m \u001b[0mimg\u001b[0m\u001b[0;34m,\u001b[0m \u001b[0mdetector_backend\u001b[0m \u001b[0;34m=\u001b[0m \u001b[0mdetector_backend\u001b[0m\u001b[0;34m,\u001b[0m \u001b[0mgrayscale\u001b[0m \u001b[0;34m=\u001b[0m \u001b[0mgrayscale\u001b[0m\u001b[0;34m,\u001b[0m \u001b[0menforce_detection\u001b[0m \u001b[0;34m=\u001b[0m \u001b[0menforce_detection\u001b[0m\u001b[0;34m)\u001b[0m\u001b[0;34m\u001b[0m\u001b[0;34m\u001b[0m\u001b[0m\n\u001b[0m\u001b[1;32m    456\u001b[0m \u001b[0;34m\u001b[0m\u001b[0m\n\u001b[1;32m    457\u001b[0m         \u001b[0;31m#--------------------------\u001b[0m\u001b[0;34m\u001b[0m\u001b[0;34m\u001b[0m\u001b[0;34m\u001b[0m\u001b[0m\n",
      "\u001b[0;32m~/work/lib/python3.7/site-packages/deepface/commons/functions.py\u001b[0m in \u001b[0;36mdetect_face\u001b[0;34m(img, detector_backend, grayscale, enforce_detection)\u001b[0m\n\u001b[1;32m    160\u001b[0m \u001b[0;34m\u001b[0m\u001b[0m\n\u001b[1;32m    161\u001b[0m                         \u001b[0;32melse\u001b[0m\u001b[0;34m:\u001b[0m\u001b[0;34m\u001b[0m\u001b[0;34m\u001b[0m\u001b[0m\n\u001b[0;32m--> 162\u001b[0;31m                                 \u001b[0;32mraise\u001b[0m \u001b[0mValueError\u001b[0m\u001b[0;34m(\u001b[0m\u001b[0;34m\"Face could not be detected. Please confirm that the picture is a face photo or consider to set enforce_detection param to False.\"\u001b[0m\u001b[0;34m)\u001b[0m\u001b[0;34m\u001b[0m\u001b[0;34m\u001b[0m\u001b[0m\n\u001b[0m\u001b[1;32m    163\u001b[0m \u001b[0;34m\u001b[0m\u001b[0m\n\u001b[1;32m    164\u001b[0m         \u001b[0;32melif\u001b[0m \u001b[0mdetector_backend\u001b[0m \u001b[0;34m==\u001b[0m \u001b[0;34m'ssd'\u001b[0m\u001b[0;34m:\u001b[0m\u001b[0;34m\u001b[0m\u001b[0;34m\u001b[0m\u001b[0m\n",
      "\u001b[0;31mValueError\u001b[0m: Face could not be detected. Please confirm that the picture is a face photo or consider to set enforce_detection param to False."
     ]
    }
   ],
   "source": [
    "faceCascade = cv2.CascadeClassifier(cv2.data.haarcascades + 'haarcascade_frontalface_default.xml')\n",
    "\n",
    "cap = cv2.VideoCapture(0)\n",
    "\n",
    "while cv2.waitKey(1) == -1:\n",
    "  ret, frame = cap.read()\n",
    "  frame = cv2.flip(frame, 1)\n",
    "  #frame = cv2.resize(frame,(1280,760))\n",
    "  result = DeepFace.analyze(frame, actions = ['emotion'])\n",
    "\n",
    "  gray = cv2.cvtColor(frame, cv2.COLOR_BGR2GRAY)\n",
    "  faces = faceCascade.detectMultiScale(gray,1.1,4)\n",
    "\n",
    "  #draw rectangle around faces\n",
    "  for (x,y,w,h) in faces:\n",
    "    cv2.rectangle(frame, (x, y), (x+w, y+h), (0, 255, 0), 2)\n",
    "  font = cv2.FONT_HERSHEY_SIMPLEX\n",
    "      #using putText() for inserting text on video\n",
    "  cv2.putText(frame,\n",
    "    result['dominant_emotion'],\n",
    "    (50, 50),\n",
    "    font, 3,\n",
    "    (0, 0, 255),\n",
    "    2,\n",
    "    cv2.LINE_4);\n",
    "  cv2.imshow('Original Video',frame)\n",
    "\n",
    "  if (cv2.waitKey(2) & 0xFF == ord('q')):\n",
    "    break\n",
    "  \n",
    "cap.release()\n",
    "cv2.destroyAllWindows()\n",
    "  "
   ]
  },
  {
   "cell_type": "code",
   "execution_count": null,
   "metadata": {},
   "outputs": [],
   "source": []
  },
  {
   "cell_type": "code",
   "execution_count": null,
   "metadata": {},
   "outputs": [],
   "source": []
  }
 ],
 "metadata": {
  "kernelspec": {
   "display_name": "Python 3",
   "language": "python",
   "name": "python3"
  },
  "language_info": {
   "codemirror_mode": {
    "name": "ipython",
    "version": 3
   },
   "file_extension": ".py",
   "mimetype": "text/x-python",
   "name": "python",
   "nbconvert_exporter": "python",
   "pygments_lexer": "ipython3",
   "version": "3.7.3"
  }
 },
 "nbformat": 4,
 "nbformat_minor": 4
}
